{
  "cells": [
    {
      "cell_type": "code",
      "execution_count": 37,
      "metadata": {
        "colab": {
          "base_uri": "https://localhost:8080/"
        },
        "id": "7jUx042a3UUj",
        "outputId": "f8bd977d-bd1e-44b0-ea95-8844b59d791b"
      },
      "outputs": [
        {
          "output_type": "stream",
          "name": "stdout",
          "text": [
            "Looking in indexes: https://pypi.org/simple, https://us-python.pkg.dev/colab-wheels/public/simple/\n",
            "Requirement already satisfied: MKLpy in /usr/local/lib/python3.10/dist-packages (0.6)\n",
            "Requirement already satisfied: numpy in /usr/local/lib/python3.10/dist-packages (from MKLpy) (1.22.4)\n",
            "Requirement already satisfied: torch in /usr/local/lib/python3.10/dist-packages (from MKLpy) (2.0.1+cu118)\n",
            "Requirement already satisfied: cvxopt in /usr/local/lib/python3.10/dist-packages (from MKLpy) (1.3.1)\n",
            "Requirement already satisfied: scikit-learn in /usr/local/lib/python3.10/dist-packages (from MKLpy) (1.2.2)\n",
            "Requirement already satisfied: scipy>=1.3.2 in /usr/local/lib/python3.10/dist-packages (from scikit-learn->MKLpy) (1.10.1)\n",
            "Requirement already satisfied: joblib>=1.1.1 in /usr/local/lib/python3.10/dist-packages (from scikit-learn->MKLpy) (1.2.0)\n",
            "Requirement already satisfied: threadpoolctl>=2.0.0 in /usr/local/lib/python3.10/dist-packages (from scikit-learn->MKLpy) (3.1.0)\n",
            "Requirement already satisfied: filelock in /usr/local/lib/python3.10/dist-packages (from torch->MKLpy) (3.12.2)\n",
            "Requirement already satisfied: typing-extensions in /usr/local/lib/python3.10/dist-packages (from torch->MKLpy) (4.6.3)\n",
            "Requirement already satisfied: sympy in /usr/local/lib/python3.10/dist-packages (from torch->MKLpy) (1.11.1)\n",
            "Requirement already satisfied: networkx in /usr/local/lib/python3.10/dist-packages (from torch->MKLpy) (3.1)\n",
            "Requirement already satisfied: jinja2 in /usr/local/lib/python3.10/dist-packages (from torch->MKLpy) (3.1.2)\n",
            "Requirement already satisfied: triton==2.0.0 in /usr/local/lib/python3.10/dist-packages (from torch->MKLpy) (2.0.0)\n",
            "Requirement already satisfied: cmake in /usr/local/lib/python3.10/dist-packages (from triton==2.0.0->torch->MKLpy) (3.25.2)\n",
            "Requirement already satisfied: lit in /usr/local/lib/python3.10/dist-packages (from triton==2.0.0->torch->MKLpy) (16.0.6)\n",
            "Requirement already satisfied: MarkupSafe>=2.0 in /usr/local/lib/python3.10/dist-packages (from jinja2->torch->MKLpy) (2.1.3)\n",
            "Requirement already satisfied: mpmath>=0.19 in /usr/local/lib/python3.10/dist-packages (from sympy->torch->MKLpy) (1.3.0)\n"
          ]
        }
      ],
      "source": [
        "!pip install MKLpy"
      ]
    },
    {
      "cell_type": "code",
      "execution_count": 38,
      "metadata": {
        "id": "30V9tawBw5gw"
      },
      "outputs": [],
      "source": [
        "# Import librarys\n",
        "from sklearn.datasets import make_classification\n",
        "from sklearn.model_selection import train_test_split\n",
        "from sklearn.svm import SVC\n",
        "from sklearn.model_selection import GridSearchCV\n",
        "from sklearn.pipeline import Pipeline\n",
        "from sklearn.kernel_approximation import Nystroem\n",
        "from sklearn.ensemble import VotingClassifier\n",
        "from sklearn.metrics import precision_score, recall_score, accuracy_score, f1_score, confusion_matrix\n",
        "from sklearn.metrics import classification_report\n",
        "from MKLpy.algorithms import EasyMKL ,AverageMKL\n",
        "from MKLpy.metrics.pairwise import homogeneous_polynomial_kernel as hpk\n",
        "import numpy as np\n",
        "from sklearn.metrics import accuracy_score, roc_auc_score\n",
        "#from mklaren.mkl.simplemkl import SimpleMKL --> not supported"
      ]
    },
    {
      "cell_type": "code",
      "execution_count": 39,
      "metadata": {
        "colab": {
          "base_uri": "https://localhost:8080/"
        },
        "id": "EMuRTr5Ixsqe",
        "outputId": "1bd6e7e7-039a-4542-e5fb-bef1ccb7f728"
      },
      "outputs": [
        {
          "output_type": "stream",
          "name": "stdout",
          "text": [
            "shape of the x-train: (4000, 8)\n",
            "shape of the y-train: (4000,)\n",
            "shape of the x-val: (1000, 8)\n",
            "shape of the y-val: (1000,)\n"
          ]
        }
      ],
      "source": [
        "# Generate custom dataset with 5000 samples, 8 features, and 2 classes\n",
        "X, y = make_classification(n_samples=5000, n_features=8, n_classes=2)\n",
        "\n",
        "# Split the dataset into 80% training data and 20% validation data\n",
        "X_train, X_val, y_train, y_val = train_test_split(X, y, test_size=0.2, random_state=42)\n",
        "\n",
        "# Printing the shape ofthe sets\n",
        "print(f'shape of the x-train: {X_train.shape}')\n",
        "print(f'shape of the y-train: {y_train.shape}')\n",
        "print(f'shape of the x-val: {X_val.shape}')\n",
        "print(f'shape of the y-val: {y_val.shape}')"
      ]
    },
    {
      "cell_type": "code",
      "execution_count": 40,
      "metadata": {
        "colab": {
          "base_uri": "https://localhost:8080/"
        },
        "id": "yR7rtq0ozg28",
        "outputId": "79e4c808-e65d-44df-837d-4b637888c99e"
      },
      "outputs": [
        {
          "output_type": "stream",
          "name": "stdout",
          "text": [
            "Best parameters: {'C': 10, 'gamma': 'scale', 'kernel': 'rbf'}\n",
            "Best score: 0.9226000000000001\n"
          ]
        }
      ],
      "source": [
        "# Define the parameter grid to search over\n",
        "param_grid = {\n",
        "    'C': [0.1,0.5,0.9,1,10,30,50,80,100],\n",
        "    'kernel': ['linear', 'rbf', 'sigmoid'],\n",
        "    'gamma': ['scale', 'auto']\n",
        "}\n",
        "\n",
        "# Create an SVM object\n",
        "svm = SVC()\n",
        "\n",
        "# Create a GridSearchCV object\n",
        "grid_search = GridSearchCV(svm, param_grid, cv=5)\n",
        "\n",
        "# Fit the data to the GridSearchCV object\n",
        "grid_search.fit(X, y)\n",
        "\n",
        "# Get the best parameters and the best model\n",
        "best_params = grid_search.best_params_\n",
        "best_model = grid_search.best_estimator_\n",
        "\n",
        "# Print the best parameters found by GridSearchCV and score\n",
        "print(f\"Best parameters: {grid_search.best_params_}\")\n",
        "print(f\"Best score: {grid_search.best_score_}\")"
      ]
    },
    {
      "cell_type": "code",
      "execution_count": 41,
      "metadata": {
        "colab": {
          "base_uri": "https://localhost:8080/"
        },
        "id": "av9OkK9tPXUv",
        "outputId": "55f64b57-440f-436e-ea76-ded8d537503f"
      },
      "outputs": [
        {
          "output_type": "stream",
          "name": "stdout",
          "text": [
            "              precision    recall  f1-score   support\n",
            "\n",
            "           0       0.97      0.91      0.94       517\n",
            "           1       0.91      0.96      0.93       483\n",
            "\n",
            "    accuracy                           0.94      1000\n",
            "   macro avg       0.94      0.94      0.93      1000\n",
            "weighted avg       0.94      0.94      0.94      1000\n",
            "\n"
          ]
        }
      ],
      "source": [
        "# Make predictions on the validation set\n",
        "y_pred = best_model.predict(X_val)\n",
        "\n",
        "# Evaluate the model's performance\n",
        "print(classification_report(y_val, y_pred))"
      ]
    },
    {
      "cell_type": "code",
      "execution_count": 46,
      "metadata": {
        "id": "mphR4R5AY4UB"
      },
      "outputs": [],
      "source": [
        "# Fit the EasyMKL model on the training data with different polynomial kernels\n",
        "K_train = [hpk(X_train, degree=d) for d in range(10)]\n",
        "K_test = [hpk(X_val,X_train, degree=d) for d in range(10)]"
      ]
    },
    {
      "cell_type": "code",
      "source": [
        "# MKL algorithms --> EasyMKL()\n",
        "base_learner = SVC(C=0.1)\n",
        "\n",
        "# lam is a hyper-parameter in [0,1]\n",
        "EasyMKL = EasyMKL(lam=1.,learner=base_learner)\n",
        "EasyMKL = EasyMKL.fit(K_train, y_train)"
      ],
      "metadata": {
        "id": "sbLFDR1AgF6A"
      },
      "execution_count": 43,
      "outputs": []
    },
    {
      "cell_type": "code",
      "source": [
        "# Evaluate the solution --> EasyMKL()\n",
        "y_pred = EasyMKL.predict(K_test)\n",
        "y_score = EasyMKL.decision_function(K_test)\n",
        "\n",
        "accuracy = accuracy_score(y_val, y_pred)\n",
        "roc_auc = roc_auc_score(y_val, y_score)\n",
        "precision = precision_score(y_val, y_pred)\n",
        "recall = recall_score(y_val, y_pred)\n",
        "f1 = f1_score(y_val, y_pred)\n",
        "confusion_mat = confusion_matrix(y_val, y_pred)\n",
        "\n",
        "print ('The EasyMKL:')\n",
        "print (f'Accuracy score: {accuracy}, roc AUC score: {roc_auc}')\n",
        "print (f'Precision score: {precision}')\n",
        "print (f'Recall score: {recall}')\n",
        "print (f'F1 score: {f1}')\n",
        "print (f'Confusion Matrix: {confusion_mat}')"
      ],
      "metadata": {
        "colab": {
          "base_uri": "https://localhost:8080/"
        },
        "id": "IOgxNL4Vdy4f",
        "outputId": "fd58b1f1-3237-4760-8b54-3ea457597d3b"
      },
      "execution_count": 44,
      "outputs": [
        {
          "output_type": "stream",
          "name": "stdout",
          "text": [
            "The EasyMKL:\n",
            "Accuracy score: 0.802, roc AUC score: 0.8488813067906499\n",
            "Precision score: 0.7821782178217822\n",
            "Recall score: 0.8178053830227743\n",
            "F1 score: 0.7995951417004049\n",
            "Confusion Matrix: [[407 110]\n",
            " [ 88 395]]\n"
          ]
        }
      ]
    },
    {
      "cell_type": "code",
      "source": [
        "# MKL algorithms --> AverageMKL()\n",
        "AverageMKL = AverageMKL().fit(K_train,y_train)\n",
        "\n",
        "# The combined kernel matrix\n",
        "K_average = AverageMKL.solution.ker_matrix\n",
        "print (AverageMKL.solution.weights)"
      ],
      "metadata": {
        "colab": {
          "base_uri": "https://localhost:8080/"
        },
        "id": "O7UBEPQqfaxQ",
        "outputId": "f0ccbd80-93e6-4e9b-8f68-99f7683f81d7"
      },
      "execution_count": 47,
      "outputs": [
        {
          "output_type": "stream",
          "name": "stdout",
          "text": [
            "tensor([0.1000, 0.1000, 0.1000, 0.1000, 0.1000, 0.1000, 0.1000, 0.1000, 0.1000,\n",
            "        0.1000])\n"
          ]
        }
      ]
    },
    {
      "cell_type": "code",
      "source": [
        "# Evaluate the solution --> AverageMKL()\n",
        "y_pred = AverageMKL.predict(K_test)\n",
        "y_score = AverageMKL.decision_function(K_test)\n",
        "\n",
        "accuracy = accuracy_score(y_val, y_pred)\n",
        "roc_auc = roc_auc_score(y_val, y_score)\n",
        "precision = precision_score(y_val, y_pred)\n",
        "recall = recall_score(y_val, y_pred)\n",
        "f1 = f1_score(y_val, y_pred)\n",
        "confusion_mat = confusion_matrix(y_val, y_pred)\n",
        "\n",
        "print ('The AverageMKL:')\n",
        "print (f'Accuracy score: {accuracy}, roc AUC score: {roc_auc}')\n",
        "print (f'Precision score: {precision}')\n",
        "print (f'Recall score: {recall}')\n",
        "print (f'F1 score: {f1}')\n",
        "print (f'Confusion Matrix: {confusion_mat}')"
      ],
      "metadata": {
        "colab": {
          "base_uri": "https://localhost:8080/"
        },
        "id": "ckMx07_Hfu4o",
        "outputId": "698fc653-d6b8-44ba-cd0f-32f7ac5e31aa"
      },
      "execution_count": 49,
      "outputs": [
        {
          "output_type": "stream",
          "name": "stdout",
          "text": [
            "The AverageMKL:\n",
            "Accuracy score: 0.814, roc AUC score: 0.8492697558377484\n",
            "Precision score: 0.8049281314168378\n",
            "Recall score: 0.8115942028985508\n",
            "F1 score: 0.8082474226804125\n",
            "Confusion Matrix: [[422  95]\n",
            " [ 91 392]]\n"
          ]
        }
      ]
    },
    {
      "cell_type": "code",
      "execution_count": 51,
      "metadata": {
        "id": "2vA_iV7o1eBc"
      },
      "outputs": [],
      "source": [
        "# Creating the MKL like using VotingClassifier\n",
        "# Define individual kernels\n",
        "linear_kernel = SVC(kernel='linear')\n",
        "rbf_kernel = SVC(kernel='rbf')\n",
        "poly_kernel = SVC(kernel='poly')\n",
        "\n",
        "# Define the MKL model with Nystroem approximation\n",
        "mkl_model = VotingClassifier(estimators=[('linear', linear_kernel),\n",
        "                                         ('rbf', rbf_kernel),\n",
        "                                         ('poly', poly_kernel)])\n",
        "\n",
        "# Create a pipeline with Nystroem kernel approximation\n",
        "pipeline = Pipeline([\n",
        "    ('nystroem', Nystroem()),\n",
        "    ('mkl', mkl_model)\n",
        "])"
      ]
    },
    {
      "cell_type": "code",
      "execution_count": 52,
      "metadata": {
        "colab": {
          "base_uri": "https://localhost:8080/"
        },
        "id": "Cm6fJrqE6vz7",
        "outputId": "c310b7d9-d651-4c77-857d-4e5b1e7a6033"
      },
      "outputs": [
        {
          "output_type": "stream",
          "name": "stdout",
          "text": [
            "The VotingClassifier:\n",
            "Accuracy score: 0.921\n",
            "Precision score: 0.8869731800766284\n",
            "Recall score: 0.9585921325051759\n",
            "F1 score: 0.9213930348258706\n",
            "Confusion Matrix: [[458  59]\n",
            " [ 20 463]]\n"
          ]
        }
      ],
      "source": [
        "# Fit the MKL model on the training data\n",
        "pipeline.fit(X_train, y_train)\n",
        "\n",
        "# Predict on the testing data\n",
        "y_pred = pipeline.predict(X_val)\n",
        "\n",
        "# Calculate evaluation metrics\n",
        "precision = precision_score(y_val, y_pred)\n",
        "recall = recall_score(y_val, y_pred)\n",
        "accuracy = accuracy_score(y_val, y_pred)\n",
        "f1 = f1_score(y_val, y_pred)\n",
        "confusion_mat = confusion_matrix(y_val, y_pred)\n",
        "\n",
        "# Print the evaluation metrics\n",
        "print ('The VotingClassifier:')\n",
        "print (f'Accuracy score: {accuracy}')\n",
        "print (f'Precision score: {precision}')\n",
        "print (f'Recall score: {recall}')\n",
        "print (f'F1 score: {f1}')\n",
        "print (f'Confusion Matrix: {confusion_mat}')"
      ]
    }
  ],
  "metadata": {
    "colab": {
      "provenance": []
    },
    "kernelspec": {
      "display_name": "Python 3",
      "name": "python3"
    },
    "language_info": {
      "name": "python"
    }
  },
  "nbformat": 4,
  "nbformat_minor": 0
}