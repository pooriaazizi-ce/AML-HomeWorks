{
  "nbformat": 4,
  "nbformat_minor": 0,
  "metadata": {
    "colab": {
      "provenance": []
    },
    "kernelspec": {
      "name": "python3",
      "display_name": "Python 3"
    },
    "language_info": {
      "name": "python"
    }
  },
  "cells": [
    {
      "cell_type": "code",
      "execution_count": 2,
      "metadata": {
        "colab": {
          "base_uri": "https://localhost:8080/"
        },
        "id": "9j8On7XUwpx8",
        "outputId": "99b85593-95c0-4a06-d8be-ac092916c29f"
      },
      "outputs": [
        {
          "output_type": "stream",
          "name": "stdout",
          "text": [
            "Drive already mounted at /content/data; to attempt to forcibly remount, call drive.mount(\"/content/data\", force_remount=True).\n"
          ]
        }
      ],
      "source": [
        "from google.colab import drive\n",
        "drive.mount('/content/data')"
      ]
    },
    {
      "cell_type": "code",
      "source": [
        "import numpy as np\n",
        "import pandas as pd\n",
        "import cv2\n",
        "import os\n",
        "import matplotlib.pyplot as plt\n",
        "from sklearn.model_selection import train_test_split\n",
        "from sklearn.linear_model import LogisticRegression\n",
        "from sklearn.metrics import accuracy_score, confusion_matrix\n",
        "import joblib"
      ],
      "metadata": {
        "id": "N1EWZkyIxCKY"
      },
      "execution_count": 3,
      "outputs": []
    },
    {
      "cell_type": "code",
      "source": [
        "# Define the directories containing the fire and no-fire images\n",
        "fire_images_dir = \"/content/data/MyDrive/fire_dataset/fire_images/\"\n",
        "no_fire_images_dir = \"/content/data/MyDrive/fire_dataset/non_fire_images/\""
      ],
      "metadata": {
        "id": "HxPzSIMs5Wwl"
      },
      "execution_count": 4,
      "outputs": []
    },
    {
      "cell_type": "code",
      "source": [
        "# Load the fire images into arrays and assign target labels\n",
        "fire_images = []\n",
        "fire_targets = []\n",
        "for image_file in os.listdir(fire_images_dir):\n",
        "    image_path = os.path.join(fire_images_dir, image_file)\n",
        "    image = cv2.imread(image_path)\n",
        "\n",
        "    # Resize the image to 100x100 pixels\n",
        "    resized_image = cv2.resize(image, (100, 100)) \n",
        "\n",
        "    # Normalize pixel values between 0 and 1\n",
        "    normalized_image = resized_image / 255.0  \n",
        "    fire_images.append(normalized_image)\n",
        "\n",
        "    # Target 1 represents fire\n",
        "    fire_targets.append(1)"
      ],
      "metadata": {
        "id": "D66xUEP06WCe"
      },
      "execution_count": 5,
      "outputs": []
    },
    {
      "cell_type": "code",
      "source": [
        "# Load the no-fire images into arrays and assign target labels\n",
        "no_fire_images = []\n",
        "no_fire_targets = []\n",
        "for image_file in os.listdir(no_fire_images_dir):\n",
        "    image_path = os.path.join(no_fire_images_dir, image_file)\n",
        "    image = cv2.imread(image_path)\n",
        "\n",
        "    # Resize the image to 100x100 pixels\n",
        "    resized_image = cv2.resize(image, (100, 100))  \n",
        "\n",
        "    # Normalize pixel values between 0 and 1\n",
        "    normalized_image = resized_image / 255.0  \n",
        "    no_fire_images.append(normalized_image)\n",
        "\n",
        "    # Target 0 represents no-fire\n",
        "    no_fire_targets.append(0)"
      ],
      "metadata": {
        "id": "8NcMdCA06Y2U"
      },
      "execution_count": 6,
      "outputs": []
    },
    {
      "cell_type": "code",
      "source": [
        "# Combine the fire and no-fire images and targets into arrays\n",
        "x = np.array(fire_images + no_fire_images)\n",
        "y = np.array(fire_targets + no_fire_targets)"
      ],
      "metadata": {
        "id": "edFl0w0C6ox0"
      },
      "execution_count": 7,
      "outputs": []
    },
    {
      "cell_type": "code",
      "source": [
        "# Split the data into train and test sets with a 80:20 split ratio\n",
        "x_train, x_test, y_train, y_test = train_test_split(x, y, test_size=0.2, random_state=42)\n",
        "\n",
        "# Print the shape of the train and test sets\n",
        "print(f\"Train set shape: images-> X={x_train.shape}, labels-> y={y_train.shape}\")\n",
        "print(f\"Test set shape: images-> X={x_test.shape}, labels-> y={y_test.shape}\")"
      ],
      "metadata": {
        "colab": {
          "base_uri": "https://localhost:8080/"
        },
        "id": "_3b8aMS16qB8",
        "outputId": "b8b41f48-b209-4653-c38d-783cd60359f2"
      },
      "execution_count": 14,
      "outputs": [
        {
          "output_type": "stream",
          "name": "stdout",
          "text": [
            "Train set shape: images-> X=(813, 100, 100, 3), labels-> y=(813,)\n",
            "Test set shape: images-> X=(204, 100, 100, 3), labels-> y=(204,)\n"
          ]
        }
      ]
    },
    {
      "cell_type": "code",
      "source": [
        "# Initialize the logistic regression model\n",
        "lgreg = LogisticRegression(random_state=42, max_iter=1000)\n",
        "\n",
        "# Fit the model to the training data\n",
        "lgreg.fit(x_train.reshape(len(x_train), -1), y_train)\n",
        "\n",
        "# Predict the target values for the test data\n",
        "y_pred = lgreg.predict(x_test.reshape(len(x_test), -1))"
      ],
      "metadata": {
        "id": "N1-vz1s_7132"
      },
      "execution_count": 15,
      "outputs": []
    },
    {
      "cell_type": "code",
      "source": [
        "# Compute the accuracy score\n",
        "accuracy = accuracy_score(y_test, y_pred)\n",
        "\n",
        "# Compute the confusion matrix\n",
        "conf_matrix = confusion_matrix(y_test, y_pred)\n",
        "\n",
        "# Print the results\n",
        "print(f\"Accuracy is: {accuracy}\")\n",
        "print(f\"Confusion matrix is:\\n{conf_matrix}\")"
      ],
      "metadata": {
        "colab": {
          "base_uri": "https://localhost:8080/"
        },
        "id": "A-NHvSW39B4V",
        "outputId": "0ded0182-8565-496c-8cd2-ca2947f0acd3"
      },
      "execution_count": 16,
      "outputs": [
        {
          "output_type": "stream",
          "name": "stdout",
          "text": [
            "Accuracy is: 0.9362745098039216\n",
            "Confusion matrix is:\n",
            "[[ 38  10]\n",
            " [  3 153]]\n"
          ]
        }
      ]
    },
    {
      "cell_type": "code",
      "source": [
        "# Compute predicted probabilities for the training data\n",
        "y_proba = lgreg.predict_proba(x_train.reshape(len(x_train), -1))\n",
        "\n",
        "# Define a range of probability thresholds to evaluate\n",
        "thresholds = np.array([1.0,0.9,0.8,0.7,0.6,0.5,0.4,0.3,0.2,0.1])\n",
        "\n",
        "# Initialize variables for storing the best threshold and accuracy\n",
        "best_threshold = None\n",
        "best_accuracy = 0.0\n",
        "\n",
        "# Iterate over the thresholds and compute the accuracy for each one\n",
        "for threshold in thresholds:\n",
        "    # Convert predicted probabilities to binary predictions using the threshold\n",
        "    y_pred = (y_proba[:, 1] > threshold).astype(int)\n",
        "\n",
        "    # Compute the accuracy score\n",
        "    accuracy = accuracy_score(y_train, y_pred)\n",
        "\n",
        "    # Update the best threshold and accuracy if necessary\n",
        "    if accuracy > best_accuracy:\n",
        "        best_threshold = threshold\n",
        "        best_accuracy = accuracy\n",
        "\n",
        "# Print the best threshold and accuracy\n",
        "print(f\"Best threshold: {best_threshold}\")\n",
        "print(f\"Best accuracy: {best_accuracy}\")"
      ],
      "metadata": {
        "colab": {
          "base_uri": "https://localhost:8080/"
        },
        "id": "g0426qQ7-N-N",
        "outputId": "a7915354-53bc-4d04-c8b9-c08b634316c8"
      },
      "execution_count": 17,
      "outputs": [
        {
          "output_type": "stream",
          "name": "stdout",
          "text": [
            "Best threshold: 0.9\n",
            "Best accuracy: 1.0\n"
          ]
        }
      ]
    },
    {
      "cell_type": "code",
      "source": [
        "# Compute predicted probabilities and binary predictions for the test data using the best threshold\n",
        "y_proba_test = lgreg.predict_proba(x_test.reshape(len(x_test), -1))\n",
        "y_pred_test = (y_proba_test[:, 1] > best_threshold).astype(int)\n",
        "\n",
        "# Compute the accuracy score and confusion matrix for the test data\n",
        "accuracy = accuracy_score(y_test, y_pred_test)\n",
        "conf_matrix = confusion_matrix(y_test, y_pred_test)\n",
        "\n",
        "# Print the results\n",
        "print(f\"Accuracy: {accuracy}\")\n",
        "print(f\"Confusion matrix:\\n{conf_matrix}\", )"
      ],
      "metadata": {
        "colab": {
          "base_uri": "https://localhost:8080/"
        },
        "id": "sX68jrJh-dab",
        "outputId": "e87d3950-3a36-42c8-910b-802404d8e7a6"
      },
      "execution_count": 18,
      "outputs": [
        {
          "output_type": "stream",
          "name": "stdout",
          "text": [
            "Accuracy: 0.9411764705882353\n",
            "Confusion matrix:\n",
            "[[ 43   5]\n",
            " [  7 149]]\n"
          ]
        }
      ]
    },
    {
      "cell_type": "code",
      "source": [
        "# Save the best model to a file\n",
        "joblib.dump(lgreg, 'best_model.pkl')"
      ],
      "metadata": {
        "id": "QxcSkN6vAwvl",
        "colab": {
          "base_uri": "https://localhost:8080/"
        },
        "outputId": "2dce4809-bf63-45f2-9001-d1f1f0d50f46"
      },
      "execution_count": 13,
      "outputs": [
        {
          "output_type": "execute_result",
          "data": {
            "text/plain": [
              "['best_model.pkl']"
            ]
          },
          "metadata": {},
          "execution_count": 13
        }
      ]
    }
  ]
}