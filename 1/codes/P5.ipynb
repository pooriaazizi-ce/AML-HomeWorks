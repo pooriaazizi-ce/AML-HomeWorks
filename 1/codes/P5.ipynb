{
  "nbformat": 4,
  "nbformat_minor": 0,
  "metadata": {
    "colab": {
      "provenance": []
    },
    "kernelspec": {
      "name": "python3",
      "display_name": "Python 3"
    },
    "language_info": {
      "name": "python"
    }
  },
  "cells": [
    {
      "cell_type": "code",
      "execution_count": 1,
      "metadata": {
        "id": "HzyxJOBZhnAM"
      },
      "outputs": [],
      "source": [
        "# Importing the librarys\n",
        "import numpy as np\n",
        "import matplotlib.pyplot as plt\n",
        "from sklearn.datasets import load_iris\n",
        "from sklearn.model_selection import train_test_split\n",
        "from sklearn.preprocessing import StandardScaler\n",
        "from sklearn.neighbors import KNeighborsClassifier\n",
        "from sklearn.metrics import accuracy_score"
      ]
    },
    {
      "cell_type": "code",
      "source": [
        "# Load the Iris dataset\n",
        "iris = load_iris()\n",
        "\n",
        "# Split the dataset into training and test sets using an 80/20 split and a random seed of 42\n",
        "x_train, x_test, y_train, y_test = train_test_split(iris.data, iris.target, test_size=0.2, random_state=42)\n",
        "\n",
        "print(f'dataset: {iris.data.shape}')\n",
        "print('------------------')\n",
        "print(f'x_train: {x_train.data.shape}')\n",
        "print(f'y_train: {y_train.data.shape}')\n",
        "print('------------------')\n",
        "print(f'x_test: {x_test.data.shape}')\n",
        "print(f'y_test: {y_test.data.shape}')"
      ],
      "metadata": {
        "colab": {
          "base_uri": "https://localhost:8080/"
        },
        "id": "pjf1dFcVi_5C",
        "outputId": "b0e48358-d235-4540-f2b4-cb92b28f74b4"
      },
      "execution_count": 16,
      "outputs": [
        {
          "output_type": "stream",
          "name": "stdout",
          "text": [
            "dataset: (150, 4)\n",
            "------------------\n",
            "x_train: (120, 4)\n",
            "y_train: (120,)\n",
            "------------------\n",
            "x_test: (30, 4)\n",
            "y_test: (30,)\n"
          ]
        }
      ]
    },
    {
      "cell_type": "code",
      "source": [
        "# Create a StandardScaler object\n",
        "scaler = StandardScaler()\n",
        "\n",
        "# Fit the scaler to the training data\n",
        "scaler.fit(x_train)\n",
        "\n",
        "# Transform the training and test data using the scaler\n",
        "x_train = scaler.transform(x_train)\n",
        "x_test = scaler.transform(x_test)\n",
        "\n",
        "# Printing 2 samples\n",
        "print('x_train[8]: \\n'+str(x_train[8]))\n",
        "print('-----------------------------------------------------')\n",
        "print('x_test[8]: \\n'+str(x_test[8]))"
      ],
      "metadata": {
        "colab": {
          "base_uri": "https://localhost:8080/"
        },
        "id": "q1UB0GOhjEcK",
        "outputId": "8eb5f343-357a-4f88-d72a-6f537fd4bf83"
      },
      "execution_count": 17,
      "outputs": [
        {
          "output_type": "stream",
          "name": "stdout",
          "text": [
            "x_train[8]: \n",
            "[-0.98634915  1.20365799 -1.33331205 -1.31260282]\n",
            "-----------------------------------------------------\n",
            "x_test[8]: \n",
            "[ 0.47641375 -1.92659808  0.44316389  0.4227026 ]\n"
          ]
        }
      ]
    },
    {
      "cell_type": "code",
      "source": [
        "# Create a list of K values to try\n",
        "k_values = range(1, 21)\n",
        "\n",
        "# Create an empty list to store the accuracy scores\n",
        "accuracy_scores = []\n",
        "\n",
        "# Train a KNN classifier for each K value and evaluate its performance on the test set\n",
        "for k in k_values:\n",
        "    # Create a KNN classifier with the current K value\n",
        "    knn = KNeighborsClassifier(n_neighbors=k)\n",
        "    \n",
        "    # Train the classifier on the scaled training data\n",
        "    knn.fit(x_train, y_train)\n",
        "    \n",
        "    # Make predictions on the scaled test data\n",
        "    y_pred = knn.predict(x_test)\n",
        "\n",
        "    \n",
        "    # Compute the accuracy score for the current K value\n",
        "    accuracy = accuracy_score(y_test, y_pred)\n",
        "    \n",
        "    # Append the accuracy score to the list of scores\n",
        "    accuracy_scores.append(accuracy)\n",
        "    \n",
        "    # Print the accuracy score for the current K value\n",
        "    print(f'K = {k}: Accuracy = {accuracy:.3f}')"
      ],
      "metadata": {
        "colab": {
          "base_uri": "https://localhost:8080/"
        },
        "id": "emKD9mJOjcgy",
        "outputId": "0f776f93-7298-4c04-d671-41bfa62a5e60"
      },
      "execution_count": 18,
      "outputs": [
        {
          "output_type": "stream",
          "name": "stdout",
          "text": [
            "K = 1: Accuracy = 1.000\n",
            "K = 2: Accuracy = 1.000\n",
            "K = 3: Accuracy = 1.000\n",
            "K = 4: Accuracy = 1.000\n",
            "K = 5: Accuracy = 1.000\n",
            "K = 6: Accuracy = 1.000\n",
            "K = 7: Accuracy = 1.000\n",
            "K = 8: Accuracy = 1.000\n",
            "K = 9: Accuracy = 1.000\n",
            "K = 10: Accuracy = 1.000\n",
            "K = 11: Accuracy = 1.000\n",
            "K = 12: Accuracy = 1.000\n",
            "K = 13: Accuracy = 1.000\n",
            "K = 14: Accuracy = 1.000\n",
            "K = 15: Accuracy = 1.000\n",
            "K = 16: Accuracy = 1.000\n",
            "K = 17: Accuracy = 1.000\n",
            "K = 18: Accuracy = 1.000\n",
            "K = 19: Accuracy = 1.000\n",
            "K = 20: Accuracy = 1.000\n"
          ]
        }
      ]
    },
    {
      "cell_type": "code",
      "source": [
        "# Find the index of the maximum accuracy score\n",
        "max_index = accuracy_scores.index(max(accuracy_scores))\n",
        "\n",
        "# Get the corresponding value of K\n",
        "optimal_k = k_values[max_index]\n",
        "\n",
        "# Print the optimal value of K\n",
        "print(f'The optimal value of K is {optimal_k}')"
      ],
      "metadata": {
        "colab": {
          "base_uri": "https://localhost:8080/"
        },
        "id": "76AYk1QLkDEi",
        "outputId": "3586f8bb-5a89-408c-f33b-691209a515d9"
      },
      "execution_count": 19,
      "outputs": [
        {
          "output_type": "stream",
          "name": "stdout",
          "text": [
            "The optimal value of K is 1\n"
          ]
        }
      ]
    }
  ]
}