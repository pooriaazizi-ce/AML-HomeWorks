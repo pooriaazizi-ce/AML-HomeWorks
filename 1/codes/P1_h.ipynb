{
  "nbformat": 4,
  "nbformat_minor": 0,
  "metadata": {
    "colab": {
      "provenance": []
    },
    "kernelspec": {
      "name": "python3",
      "display_name": "Python 3"
    },
    "language_info": {
      "name": "python"
    }
  },
  "cells": [
    {
      "cell_type": "code",
      "execution_count": 6,
      "metadata": {
        "colab": {
          "base_uri": "https://localhost:8080/"
        },
        "id": "ggOLj5q-FIjg",
        "outputId": "ffe1d365-db14-4e74-ee60-588893d74d07"
      },
      "outputs": [
        {
          "output_type": "stream",
          "name": "stdout",
          "text": [
            "[{'id': 1, 'f1': 3, 'f2': 4, 'class': 'A'}, {'id': 2, 'f1': 6, 'f2': 5, 'class': 'A'}]\n"
          ]
        }
      ],
      "source": [
        "#Problem 1-h KNN code\n",
        "\n",
        "# defining train set\n",
        "train_set = [\n",
        "    {'id': 1 , 'f1': 2 , 'f2': 4 , 'class' : 'A'},\n",
        "    {'id': 2 , 'f1': 3 , 'f2': 5 , 'class' : 'A'},\n",
        "    {'id': 3 , 'f1': 4 , 'f2': 6 , 'class' : 'A'},\n",
        "    {'id': 4 , 'f1': 5 , 'f2': 7 , 'class' : 'B'},\n",
        "    {'id': 5 , 'f1': 6 , 'f2': 8 , 'class' : 'B'},\n",
        "    {'id': 6 , 'f1': 7 , 'f2': 9 , 'class' : 'B'}\n",
        "]\n",
        "\n",
        "# defining set set\n",
        "test_set = [\n",
        "    {'id': 1 , 'f1': 3 , 'f2': 4 , 'class' : None},\n",
        "    {'id': 2 , 'f1': 6 , 'f2': 5 , 'class' : None}\n",
        "]\n",
        "\n",
        "# set the k value for knn alg.\n",
        "K=3\n",
        "\n",
        "# calculating distances\n",
        "for test in test_set : \n",
        "\n",
        "  distance = []\n",
        "\n",
        "  # calculating manhatan distance and save it\n",
        "  for train in train_set : \n",
        "    distance.append({'dis' : abs(test['f1']-train['f1'])+abs(test['f2']-train['f2']),\n",
        "                     'id' : train['id'],\n",
        "                     'class' : train['class']})\n",
        "    \n",
        "  # sort each item of dict by distance\n",
        "  distance = sorted(distance, key=lambda d: d['dis'])\n",
        "\n",
        "  A_val=0\n",
        "  B_val=0\n",
        "  for item, distance in zip(range(K), distance):\n",
        "    # calculate majority of classes\n",
        "    if (distance['class'] == 'A'):\n",
        "      A_val = A_val + 1\n",
        "    elif (distance['class'] == 'B'):\n",
        "      B_val = B_val + 1\n",
        "\n",
        "  # make decision for target class of test point\n",
        "  if (A_val > B_val):\n",
        "    test['class'] = 'A'\n",
        "  elif(B_val > A_val):\n",
        "    test['class'] = 'B'\n",
        "  \n",
        "  \n",
        "print(test_set)"
      ]
    }
  ]
}